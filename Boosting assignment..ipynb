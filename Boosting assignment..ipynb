{
 "cells": [
  {
   "cell_type": "markdown",
   "id": "67942c69-812b-4dde-9a3d-adf747c96b19",
   "metadata": {},
   "source": [
    "Q1 What is Gradient Boosting Regression?"
   ]
  },
  {
   "cell_type": "markdown",
   "id": "6304bab3-112a-41ea-b2ab-979c12b40c1d",
   "metadata": {},
   "source": [
    "Ans: Gradient Boosting Regression is a popular machine learning algorithm used for both regression and classification problems. It is an ensemble learning method where multiple weak models are combined to form a stronger model. The algorithm starts by fitting a simple model to the data and then adding subsequent models, each one attempting to correct for the errors of the previous model."
   ]
  },
  {
   "cell_type": "markdown",
   "id": "60ef9666-d914-43fe-865d-e5692c499915",
   "metadata": {},
   "source": [
    "Q2 Implement a simple gradient boosting algorithm from scratch using Python and NumPy. Use a simple regression problem as an example and train the model on a small dataset. Evaluate the model's performance using metrics such as mean squared error and R-squared."
   ]
  },
  {
   "cell_type": "code",
   "execution_count": 2,
   "id": "17cf6f86-3736-4d38-96f7-5dacdbabb02f",
   "metadata": {},
   "outputs": [],
   "source": [
    "from sklearn.datasets import make_regression\n",
    "from sklearn.metrics import mean_squared_error, r2_score\n",
    "from sklearn.tree import DecisionTreeRegressor\n",
    "import numpy as np"
   ]
  },
  {
   "cell_type": "code",
   "execution_count": 12,
   "id": "200a97d5-3d1e-4cae-ba28-ce94495dd5a9",
   "metadata": {},
   "outputs": [
    {
     "name": "stdout",
     "output_type": "stream",
     "text": [
      "Mean squared error: 1044.91\n",
      "R-squared: 0.92\n"
     ]
    }
   ],
   "source": [
    "class GradientBoostingRegressor:\n",
    "    \n",
    "     def __init__(self, n_estimators=100, learning_rate=0.1, max_depth=3):\n",
    "        self.n_estimators = n_estimators\n",
    "        self.learning_rate = learning_rate\n",
    "        self.max_depth = max_depth\n",
    "        self.trees = []\n",
    "        self.intercept = None\n",
    "        \n",
    "     def fit(self, X, y):\n",
    "    \n",
    "        self.intercept = np.mean(y)\n",
    "        residual = y - self.intercept\n",
    "        \n",
    "        for i in range(self.n_estimators):\n",
    "            tree = DecisionTreeRegressor(max_depth=self.max_depth)\n",
    "            tree.fit(X, residual)\n",
    "            self.trees.append(tree)\n",
    "            pred = tree.predict(X)\n",
    "            residual -= self.learning_rate * pred\n",
    "            \n",
    "     def predict(self, X):\n",
    "        preds = np.array([tree.predict(X) for tree in self.trees])\n",
    "        return self.intercept + self.learning_rate * np.sum(preds, axis=0)\n",
    "\n",
    "    # Generate a random regression problem\n",
    "X, y = make_regression(n_samples=100, n_features=5, noise=0.5)\n",
    "\n",
    "# Split data into training and testing sets\n",
    "n_train = int(0.8 * len(X))\n",
    "X_train, y_train = X[:n_train], y[:n_train]\n",
    "X_test, y_test = X[n_train:], y[n_train:]\n",
    "\n",
    "# Train a gradient boosting regressor on the training set\n",
    "gb = GradientBoostingRegressor(n_estimators=100, learning_rate=0.1, max_depth=3)\n",
    "gb.fit(X_train, y_train)\n",
    "\n",
    "# Evaluate the model on the testing set\n",
    "y_pred = gb.predict(X_test)\n",
    "mse = mean_squared_error(y_test, y_pred)\n",
    "r2 = r2_score(y_test, y_pred)\n",
    "\n",
    "print(f\"Mean squared error: {mse:.2f}\")\n",
    "print(f\"R-squared: {r2:.2f}\")"
   ]
  },
  {
   "cell_type": "markdown",
   "id": "5ac42a0a-59d1-44e7-89d8-b20d100f4391",
   "metadata": {},
   "source": [
    "Q4 What is a weak learner in Gradient Boosting?"
   ]
  },
  {
   "cell_type": "markdown",
   "id": "1bc58caf-650d-4450-a17c-279ed058f61c",
   "metadata": {},
   "source": [
    "Ans: In Gradient Boosting, a weak learner is a model that is only slightly better than random guessing. It is a model that has a performance that is only slightly better than a random predictor. Typically, decision trees with shallow depth (1 or 2) are used as weak learners in Gradient Boosting."
   ]
  },
  {
   "cell_type": "markdown",
   "id": "7f2ec40e-d2f3-40a9-a4af-e21cf3228cd4",
   "metadata": {},
   "source": [
    "Q5 What is the intuition behind the Gradient Boosting algorithm?"
   ]
  },
  {
   "cell_type": "markdown",
   "id": "c2bd6cd6-2aba-42b0-8084-103cf56f8d2d",
   "metadata": {},
   "source": [
    "Ans: The intuition behind Gradient Boosting can be explained as follows:\n",
    "\n",
    "\n",
    "Suppose we have a complex problem that we want to solve using machine learning. We have a large dataset with many features and a target variable that we want to predict. We can train a simple model, such as a linear regression, to predict the target variable, but this model may not be able to capture all the complex patterns in the data.\n",
    "\n",
    "To improve the performance of the model, we can use an ensemble of models. Gradient Boosting is a type of ensemble learning algorithm that combines the predictions of multiple weak learners, such as decision trees, to create a strong learner.\n",
    "\n",
    "The algorithm works as follows: we first train a weak learner on the data, and then calculate the error between the predicted values and the actual values. We then train another weak learner on the residuals (i.e., the difference between the predicted and actual values), and add this learner's predictions to the previous learner's predictions. We continue this process of adding new weak learners until we have a set of models that collectively predict the target variable with high accuracy."
   ]
  },
  {
   "cell_type": "markdown",
   "id": "cfe2b694-fa37-4d62-a9f5-919b53d4fef6",
   "metadata": {},
   "source": [
    "Q6 How does Gradient Boosting algorithm build an ensemble of weak learners?"
   ]
  },
  {
   "cell_type": "markdown",
   "id": "73f5df6f-a536-41cc-8924-1b48ee44e770",
   "metadata": {},
   "source": [
    "Ans: The Gradient Boosting algorithm builds an ensemble of weak learners in a sequential manner. At each step of the algorithm, a new weak learner is added to the ensemble and its predictions are combined with the predictions of the previous weak learners to improve the overall prediction accuracy.\n",
    "\n",
    "The algorithm works as follows:\n",
    "\n",
    "\n",
    "1. Initialize the ensemble with a constant value, such as the mean or median of the target variable.\n",
    "\n",
    "2. Train a weak learner, such as a decision tree, on the training data. The weak learner is trained to minimize the loss function between the predicted values and the actual values.\n",
    "\n",
    "3. Calculate the residuals between the predicted values and the actual values. These residuals represent the errors made by the current ensemble.\n",
    "\n",
    "4. Train a new weak learner on the residuals. This new learner is trained to predict the residuals, so that it can correct the errors made by the previous learner.\n",
    "\n",
    "5. Combine the predictions of the new learner with the predictions of the previous learners. This is done by adding the new learner's predictions to the predictions of the previous learners, with a weighting factor that determines the contribution of each learner to the final prediction.\n",
    "\n",
    "6. Repeat steps 3 to 5 for a predetermined number of iterations or until a certain level of accuracy is achieved."
   ]
  },
  {
   "cell_type": "markdown",
   "id": "c8861990-a84e-4640-ab1d-c6878597e19d",
   "metadata": {},
   "source": [
    "Q7 What are the steps involved in constructing the mathematical intuition of Gradient Boosting algorithm?"
   ]
  },
  {
   "cell_type": "markdown",
   "id": "e5cf439e-50f6-4abd-bbc0-4eae02a5272f",
   "metadata": {},
   "source": [
    "1. Define the loss function: The first step is to define a loss function that measures the difference between the predicted values and the actual values. This loss function is typically a differentiable function, such as the mean squared error or the cross-entropy loss.\n",
    "\n",
    "2. Initialize the model: We start with an initial model that predicts the target variable, such as a constant value or the mean of the target variable.\n",
    "\n",
    "3. Compute the negative gradient of the loss function: We compute the negative gradient of the loss function with respect to the current model's predictions. This gradient represents the direction in which we should update the model to reduce the loss.\n",
    "\n",
    "4. Train a new weak learner: We train a new weak learner, such as a decision tree, on the negative gradient of the loss function. This new learner is trained to predict the negative gradient, so that it can correct the errors made by the previous learner.\n",
    "\n",
    "5. Update the model: We update the model by adding the predictions of the new learner to the predictions of the previous model. We use a weighting factor, called the learning rate, to control the contribution of the new learner to the final prediction.\n",
    "\n",
    "6.Repeat steps 3 to 5: We repeat steps 3 to 5 for a predetermined number of iterations or until a certain level of accuracy is achieved."
   ]
  }
 ],
 "metadata": {
  "kernelspec": {
   "display_name": "Python 3 (ipykernel)",
   "language": "python",
   "name": "python3"
  },
  "language_info": {
   "codemirror_mode": {
    "name": "ipython",
    "version": 3
   },
   "file_extension": ".py",
   "mimetype": "text/x-python",
   "name": "python",
   "nbconvert_exporter": "python",
   "pygments_lexer": "ipython3",
   "version": "3.10.8"
  }
 },
 "nbformat": 4,
 "nbformat_minor": 5
}
